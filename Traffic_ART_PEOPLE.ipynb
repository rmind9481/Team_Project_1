{
 "cells": [
  {
   "cell_type": "markdown",
   "metadata": {},
   "source": [
    "데이터 모듈 및 로딩 <hr>"
   ]
  },
  {
   "cell_type": "code",
   "execution_count": 8,
   "metadata": {},
   "outputs": [],
   "source": [
    "import pandas as pd\n"
   ]
  },
  {
   "cell_type": "markdown",
   "metadata": {},
   "source": [
    "데이터 준비"
   ]
  },
  {
   "cell_type": "code",
   "execution_count": 9,
   "metadata": {},
   "outputs": [],
   "source": [
    "ART_JG_23_1 = './DATA/23ART_Jung-gu/1_M/23_Year Apartment_Jung-gu_1month.xlsx'\n",
    "ART_JG_23_12 = './DATA/23ART_Jung-gu/12_M/23_Year Apartment_Jung-gu_12month.xlsx'\n",
    "\n",
    "ART_BG_23_1 = './DATA/23ART_Buk-gu/1_M/23_Year_Apartment_Buk-gu_1month.xlsx'\n",
    "ART_BG_23_12 = './DATA/23ART_Buk-gu/12_M/23_Year_Apartment_Buk-gu_12month.xlsx'"
   ]
  },
  {
   "cell_type": "code",
   "execution_count": 10,
   "metadata": {},
   "outputs": [],
   "source": [
    "#pip install openpyxl"
   ]
  },
  {
   "cell_type": "code",
   "execution_count": 11,
   "metadata": {},
   "outputs": [],
   "source": [
    "#  엑셀 파일 변환 => CSV\n",
    "\n",
    "ART_JG_23_1 = pd.read_excel(ART_JG_23_1)\n",
    "ART_JG_23_12 = pd.read_excel(ART_JG_23_12)\n",
    "\n",
    "ART_BG_23_1 = pd.read_excel(ART_BG_23_1)\n",
    "ART_BG_23_12 = pd.read_excel(ART_BG_23_12)\n",
    "\n"
   ]
  },
  {
   "cell_type": "code",
   "execution_count": 12,
   "metadata": {},
   "outputs": [],
   "source": [
    "file1 = './DATA/23ART_Jung-gu/1_M/ART_BJ_23_1.CSV'\n",
    "file2 = './DATA/23ART_Jung-gu/12_M/ART_BJ_23_12.CSV'\n",
    "file3 = './DATA/23ART_Buk-gu/1_M/ART_BG_23_1.CSV'\n",
    "file4 = './DATA/23ART_Buk-gu/12_M/ART_BG_23_12.CSV'\n",
    "\n",
    "\n",
    "\n",
    "\n",
    "ART_JG_23_1.to_csv(file1)\n",
    "ART_JG_23_12.to_csv(file2)\n",
    "\n",
    "ART_BG_23_1.to_csv(file3)\n",
    "ART_BG_23_12.to_csv(file4)"
   ]
  },
  {
   "cell_type": "markdown",
   "metadata": {},
   "source": [
    "데이터 CSV 로 읽어 오기"
   ]
  },
  {
   "cell_type": "code",
   "execution_count": 13,
   "metadata": {},
   "outputs": [],
   "source": [
    "ART_JG_23_1df = pd.read_csv('./DATA/23ART_Jung-gu/1_M/ART_BJ_23_1.CSV') \n",
    "ART_JG_23_12df = pd.read_csv('./DATA/23ART_Jung-gu/12_M/ART_BJ_23_12.CSV') \n",
    "\n",
    "ART_BG_23_1df = pd.read_csv('./DATA/23ART_Buk-gu/1_M/ART_BG_23_1.CSV')\n",
    "ART_BG_23_12df = pd.read_csv('./DATA/23ART_Buk-gu/12_M/ART_BG_23_12.CSV')\n",
    "\n",
    "\n"
   ]
  },
  {
   "cell_type": "code",
   "execution_count": 14,
   "metadata": {},
   "outputs": [],
   "source": [
    "ART_JG_23_1df.drop(columns=['Unnamed: 0'], inplace=True)\n",
    "ART_JG_23_1df.columns = ['아파트','가격','면적','층','위치']\n",
    "\n",
    "ART_JG_23_12df.drop(columns=['Unnamed: 0'], inplace=True)\n",
    "ART_JG_23_12df.columns = ['아파트','가격','면적','층','위치']\n",
    "\n",
    "ART_BG_23_1df.drop(columns=['Unnamed: 0'],inplace=True)\n",
    "ART_BG_23_1df.columns = ['아파트','가격','면적','층','위치']\n",
    "\n",
    "ART_BG_23_12df.drop(columns=['Unnamed: 0'],inplace=True)\n",
    "ART_BG_23_12df.columns = ['아파트','가격','면적','층','위치']\n"
   ]
  },
  {
   "cell_type": "code",
   "execution_count": 15,
   "metadata": {},
   "outputs": [],
   "source": [
    "ART_JG_23_1df = pd.DataFrame(ART_JG_23_1df)\n",
    "ART_JG_23_12df = pd.DataFrame(ART_JG_23_12df)\n"
   ]
  },
  {
   "cell_type": "markdown",
   "metadata": {},
   "source": [
    "데이터 정보 읽기"
   ]
  },
  {
   "cell_type": "code",
   "execution_count": 16,
   "metadata": {},
   "outputs": [
    {
     "name": "stdout",
     "output_type": "stream",
     "text": [
      "<class 'pandas.core.frame.DataFrame'>\n",
      "RangeIndex: 72 entries, 0 to 71\n",
      "Data columns (total 5 columns):\n",
      " #   Column  Non-Null Count  Dtype  \n",
      "---  ------  --------------  -----  \n",
      " 0   아파트     72 non-null     object \n",
      " 1   가격      72 non-null     int64  \n",
      " 2   면적      72 non-null     float64\n",
      " 3   층       72 non-null     int64  \n",
      " 4   위치      72 non-null     object \n",
      "dtypes: float64(1), int64(2), object(2)\n",
      "memory usage: 2.9+ KB\n",
      "None\n",
      "\n",
      "<class 'pandas.core.frame.DataFrame'>\n",
      "RangeIndex: 69 entries, 0 to 68\n",
      "Data columns (total 5 columns):\n",
      " #   Column  Non-Null Count  Dtype  \n",
      "---  ------  --------------  -----  \n",
      " 0   아파트     69 non-null     object \n",
      " 1   가격      69 non-null     int64  \n",
      " 2   면적      69 non-null     float64\n",
      " 3   층       69 non-null     int64  \n",
      " 4   위치      69 non-null     object \n",
      "dtypes: float64(1), int64(2), object(2)\n",
      "memory usage: 2.8+ KB\n",
      "None\n"
     ]
    }
   ],
   "source": [
    "#  중구 청아람아파트 1월 12월 정보 값 읽어오기\n",
    "print(ART_JG_23_1df.info(), end='\\n\\n')\n",
    "print(ART_JG_23_12df.info())"
   ]
  },
  {
   "cell_type": "markdown",
   "metadata": {},
   "source": [
    "타겟팅 => 삼덕 청아람 1월 12월 가격 비교 "
   ]
  },
  {
   "cell_type": "code",
   "execution_count": 17,
   "metadata": {},
   "outputs": [
    {
     "name": "stdout",
     "output_type": "stream",
     "text": [
      "Index(['아파트', '가격', '면적', '층', '위치'], dtype='object')\n",
      "Index(['아파트', '가격', '면적', '층', '위치'], dtype='object')\n"
     ]
    }
   ],
   "source": [
    "#  중구 청아람아파트 1월 12월 칼럼즈 설정\n",
    "print(ART_JG_23_1df.columns)\n",
    "print(ART_JG_23_12df.columns)"
   ]
  },
  {
   "cell_type": "code",
   "execution_count": 18,
   "metadata": {},
   "outputs": [
    {
     "data": {
      "text/html": [
       "<div>\n",
       "<style scoped>\n",
       "    .dataframe tbody tr th:only-of-type {\n",
       "        vertical-align: middle;\n",
       "    }\n",
       "\n",
       "    .dataframe tbody tr th {\n",
       "        vertical-align: top;\n",
       "    }\n",
       "\n",
       "    .dataframe thead th {\n",
       "        text-align: right;\n",
       "    }\n",
       "</style>\n",
       "<table border=\"1\" class=\"dataframe\">\n",
       "  <thead>\n",
       "    <tr style=\"text-align: right;\">\n",
       "      <th></th>\n",
       "      <th>아파트</th>\n",
       "      <th>가격</th>\n",
       "      <th>면적</th>\n",
       "      <th>층</th>\n",
       "      <th>위치</th>\n",
       "    </tr>\n",
       "  </thead>\n",
       "  <tbody>\n",
       "    <tr>\n",
       "      <th>0</th>\n",
       "      <td>남산롯데캐슬센트럴스카이</td>\n",
       "      <td>64500</td>\n",
       "      <td>84.95</td>\n",
       "      <td>12</td>\n",
       "      <td>남산동 3020</td>\n",
       "    </tr>\n",
       "    <tr>\n",
       "      <th>1</th>\n",
       "      <td>대신센트럴자이</td>\n",
       "      <td>59000</td>\n",
       "      <td>96.48</td>\n",
       "      <td>25</td>\n",
       "      <td>대신동 2106</td>\n",
       "    </tr>\n",
       "    <tr>\n",
       "      <th>2</th>\n",
       "      <td>미소시티</td>\n",
       "      <td>56500</td>\n",
       "      <td>124.15</td>\n",
       "      <td>24</td>\n",
       "      <td>계산동2가 100</td>\n",
       "    </tr>\n",
       "    <tr>\n",
       "      <th>3</th>\n",
       "      <td>남산자이하늘채</td>\n",
       "      <td>54000</td>\n",
       "      <td>84.89</td>\n",
       "      <td>13</td>\n",
       "      <td>남산동 2951-1</td>\n",
       "    </tr>\n",
       "    <tr>\n",
       "      <th>4</th>\n",
       "      <td>미소시티</td>\n",
       "      <td>49000</td>\n",
       "      <td>118.42</td>\n",
       "      <td>5</td>\n",
       "      <td>계산동2가 100</td>\n",
       "    </tr>\n",
       "  </tbody>\n",
       "</table>\n",
       "</div>"
      ],
      "text/plain": [
       "            아파트     가격      면적   층          위치\n",
       "0  남산롯데캐슬센트럴스카이  64500   84.95  12    남산동 3020\n",
       "1       대신센트럴자이  59000   96.48  25    대신동 2106\n",
       "2          미소시티  56500  124.15  24   계산동2가 100\n",
       "3       남산자이하늘채  54000   84.89  13  남산동 2951-1\n",
       "4          미소시티  49000  118.42   5   계산동2가 100"
      ]
     },
     "execution_count": 18,
     "metadata": {},
     "output_type": "execute_result"
    }
   ],
   "source": [
    "ART_JG_23_1df.head()"
   ]
  },
  {
   "cell_type": "code",
   "execution_count": 19,
   "metadata": {},
   "outputs": [
    {
     "data": {
      "text/html": [
       "<div>\n",
       "<style scoped>\n",
       "    .dataframe tbody tr th:only-of-type {\n",
       "        vertical-align: middle;\n",
       "    }\n",
       "\n",
       "    .dataframe tbody tr th {\n",
       "        vertical-align: top;\n",
       "    }\n",
       "\n",
       "    .dataframe thead th {\n",
       "        text-align: right;\n",
       "    }\n",
       "</style>\n",
       "<table border=\"1\" class=\"dataframe\">\n",
       "  <thead>\n",
       "    <tr style=\"text-align: right;\">\n",
       "      <th></th>\n",
       "      <th>아파트</th>\n",
       "      <th>가격</th>\n",
       "      <th>면적</th>\n",
       "      <th>층</th>\n",
       "      <th>위치</th>\n",
       "    </tr>\n",
       "  </thead>\n",
       "  <tbody>\n",
       "    <tr>\n",
       "      <th>67</th>\n",
       "      <td>보성황실타운</td>\n",
       "      <td>29800</td>\n",
       "      <td>84.98</td>\n",
       "      <td>15</td>\n",
       "      <td>남산동 2466-1</td>\n",
       "    </tr>\n",
       "    <tr>\n",
       "      <th>68</th>\n",
       "      <td>남산그린타운</td>\n",
       "      <td>25300</td>\n",
       "      <td>69.24</td>\n",
       "      <td>9</td>\n",
       "      <td>남산동 2937-1</td>\n",
       "    </tr>\n",
       "    <tr>\n",
       "      <th>69</th>\n",
       "      <td>보성황실타운</td>\n",
       "      <td>23500</td>\n",
       "      <td>59.96</td>\n",
       "      <td>14</td>\n",
       "      <td>남산동 2466-1</td>\n",
       "    </tr>\n",
       "    <tr>\n",
       "      <th>70</th>\n",
       "      <td>까치</td>\n",
       "      <td>15000</td>\n",
       "      <td>53.60</td>\n",
       "      <td>13</td>\n",
       "      <td>남산동 2482-1</td>\n",
       "    </tr>\n",
       "    <tr>\n",
       "      <th>71</th>\n",
       "      <td>남문시장2지구</td>\n",
       "      <td>13500</td>\n",
       "      <td>68.03</td>\n",
       "      <td>3</td>\n",
       "      <td>남산동 699-7</td>\n",
       "    </tr>\n",
       "  </tbody>\n",
       "</table>\n",
       "</div>"
      ],
      "text/plain": [
       "        아파트     가격     면적   층          위치\n",
       "67   보성황실타운  29800  84.98  15  남산동 2466-1\n",
       "68   남산그린타운  25300  69.24   9  남산동 2937-1\n",
       "69   보성황실타운  23500  59.96  14  남산동 2466-1\n",
       "70       까치  15000  53.60  13  남산동 2482-1\n",
       "71  남문시장2지구  13500  68.03   3   남산동 699-7"
      ]
     },
     "execution_count": 19,
     "metadata": {},
     "output_type": "execute_result"
    }
   ],
   "source": [
    "ART_JG_23_1df.tail()"
   ]
  },
  {
   "cell_type": "markdown",
   "metadata": {},
   "source": [
    "삼덕 청아람 데이터 추출"
   ]
  },
  {
   "cell_type": "code",
   "execution_count": 20,
   "metadata": {},
   "outputs": [
    {
     "name": "stdout",
     "output_type": "stream",
     "text": [
      "삼덕 청아람 1월 데이터\n",
      "       아파트     가격     면적   층         위치\n",
      "5   삼덕청아람  48000  84.57  34  삼덕동3가 383\n",
      "14  삼덕청아람  44300  84.57  14  삼덕동3가 383\n",
      "17  삼덕청아람  43900  84.61  24  삼덕동3가 383\n",
      "삼덕 청아람 12월 데이터\n",
      "       아파트     가격     면적   층         위치\n",
      "5   삼덕청아람  48000  84.57  34  삼덕동3가 383\n",
      "14  삼덕청아람  44300  84.57  14  삼덕동3가 383\n",
      "17  삼덕청아람  43900  84.61  24  삼덕동3가 383\n"
     ]
    }
   ],
   "source": [
    "# 아파트 이름으로 데이터 추출\n",
    "samdeok_df1 = ART_JG_23_1df[ART_JG_23_1df['아파트'] == '삼덕청아람']\n",
    "print(f'삼덕 청아람 1월 데이터\\n {samdeok_df1}')\n",
    "\n",
    "samdeok_df12 = ART_JG_23_12df[ART_JG_23_12df['아파트'] == '삼덕청아람']\n",
    "print(f'삼덕 청아람 12월 데이터\\n {samdeok_df1}')"
   ]
  },
  {
   "cell_type": "markdown",
   "metadata": {},
   "source": [
    "가격 추출 후 데이터 비교"
   ]
  },
  {
   "cell_type": "code",
   "execution_count": 21,
   "metadata": {},
   "outputs": [
    {
     "name": "stdout",
     "output_type": "stream",
     "text": [
      "      아파트     가격     면적   층         위치\n",
      "5   삼덕청아람  48000  84.57  34  삼덕동3가 383\n",
      "14  삼덕청아람  44300  84.57  14  삼덕동3가 383\n",
      "17  삼덕청아람  43900  84.61  24  삼덕동3가 383\n"
     ]
    },
    {
     "data": {
      "text/plain": [
       "np.float64(45400.0)"
      ]
     },
     "execution_count": 21,
     "metadata": {},
     "output_type": "execute_result"
    }
   ],
   "source": [
    "# 삼덕 청아람 1월 가격 추출\n",
    "\n",
    "samdeok_PRICE1 = samdeok_df1['가격'].mean()\n",
    "\n",
    "print(samdeok_df1)\n",
    "samdeok_PRICE1"
   ]
  },
  {
   "cell_type": "markdown",
   "metadata": {},
   "source": [
    "면적 통일\n",
    "\n",
    "기준 : 국민평수는 33평(108.9m2), 전용면적 85m2 이하의 아파트\n",
    "<hr>"
   ]
  },
  {
   "cell_type": "code",
   "execution_count": 22,
   "metadata": {},
   "outputs": [
    {
     "data": {
      "text/html": [
       "<div>\n",
       "<style scoped>\n",
       "    .dataframe tbody tr th:only-of-type {\n",
       "        vertical-align: middle;\n",
       "    }\n",
       "\n",
       "    .dataframe tbody tr th {\n",
       "        vertical-align: top;\n",
       "    }\n",
       "\n",
       "    .dataframe thead th {\n",
       "        text-align: right;\n",
       "    }\n",
       "</style>\n",
       "<table border=\"1\" class=\"dataframe\">\n",
       "  <thead>\n",
       "    <tr style=\"text-align: right;\">\n",
       "      <th></th>\n",
       "      <th>아파트</th>\n",
       "      <th>가격</th>\n",
       "      <th>면적</th>\n",
       "      <th>층</th>\n",
       "      <th>위치</th>\n",
       "    </tr>\n",
       "  </thead>\n",
       "  <tbody>\n",
       "    <tr>\n",
       "      <th>16</th>\n",
       "      <td>삼덕청아람</td>\n",
       "      <td>51000</td>\n",
       "      <td>84.61</td>\n",
       "      <td>21</td>\n",
       "      <td>삼덕동3가 383</td>\n",
       "    </tr>\n",
       "  </tbody>\n",
       "</table>\n",
       "</div>"
      ],
      "text/plain": [
       "      아파트     가격     면적   층         위치\n",
       "16  삼덕청아람  51000  84.61  21  삼덕동3가 383"
      ]
     },
     "execution_count": 22,
     "metadata": {},
     "output_type": "execute_result"
    }
   ],
   "source": [
    "# 삼덕 청아람 12월 가격추출시 => 면적 80 이상만 저장장 \n",
    "\n",
    "samdeok_df12 = samdeok_df12[samdeok_df12['면적'].dropna() > 80]\n",
    "\n",
    "samdeok_df12"
   ]
  },
  {
   "cell_type": "code",
   "execution_count": 23,
   "metadata": {},
   "outputs": [
    {
     "data": {
      "text/plain": [
       "np.float64(51000.0)"
      ]
     },
     "execution_count": 23,
     "metadata": {},
     "output_type": "execute_result"
    }
   ],
   "source": [
    "# 면적 80 이상 가격 \n",
    "samdeok_PRICE12 = samdeok_df12['가격'].mean()\n",
    "samdeok_PRICE12"
   ]
  },
  {
   "cell_type": "code",
   "execution_count": 24,
   "metadata": {},
   "outputs": [
    {
     "data": {
      "text/plain": [
       "np.float64(12.334801762114544)"
      ]
     },
     "execution_count": 24,
     "metadata": {},
     "output_type": "execute_result"
    }
   ],
   "source": [
    "samdeok_Avg = (samdeok_PRICE12/samdeok_PRICE1 -1)*100\n",
    "\n",
    "samdeok_Avg\n",
    "\n",
    "# 23년 1월~ 12월 까지 가격 상승 중구 청아람은 12% 상승했다."
   ]
  },
  {
   "cell_type": "markdown",
   "metadata": {},
   "source": [
    "학정 청아람 비교 <Hr>"
   ]
  },
  {
   "cell_type": "code",
   "execution_count": 25,
   "metadata": {},
   "outputs": [
    {
     "name": "stdout",
     "output_type": "stream",
     "text": [
      "               아파트     가격      면적   층          위치\n",
      "0        코오롱하늘채2단지  71000  134.19  14   침산동 105-1\n",
      "1           명성푸르지오  60000  140.71  10  침산동 269-10\n",
      "2    오페라삼정그린코아더베스트  59900   84.97  26   칠성동2가 733\n",
      "3    오페라삼정그린코아더베스트  55000   84.97  29   칠성동2가 733\n",
      "4             복현자이  54000   84.99  11     복현동 703\n",
      "..             ...    ...     ...  ..         ...\n",
      "162           유성청구  10000   47.49   3   검단동 887-8\n",
      "163        칠곡2동서타운   9500   39.87   9   구암동 655-3\n",
      "164          칠곡한양2   9200   41.26   9    관음동 1370\n",
      "165           산호한양   9000   36.18  10    읍내동 1351\n",
      "166           유성청구   8000   35.10  15   검단동 887-8\n",
      "\n",
      "[167 rows x 5 columns]\n",
      "               아파트     가격      면적   층           위치\n",
      "0    오페라트루엘시민의숲아파트  67000  115.26  16    고성동3가 145\n",
      "1    침산1차푸르지오(2-2)  66000  112.11  28    칠성동2가 2-2\n",
      "2           명성푸르지오  62000  113.20  15   침산동 269-10\n",
      "3       한신더휴이스턴팰리스  56000  101.85  17      매천동 753\n",
      "4        코오롱하늘채1단지  55000  106.38  14   침산동 105-73\n",
      "..             ...    ...     ...  ..          ...\n",
      "256       칠곡화성타운2차   9350   35.44  10    동천동 880-3\n",
      "257           한신중앙   9200   47.25   6    태전동 936-1\n",
      "258           칠곡목련   9200   43.02   2     읍내동 1171\n",
      "259           한신중앙   8300   36.87   1    태전동 936-1\n",
      "260          산격청구2   7700   31.60   4  산격동 1404-19\n",
      "\n",
      "[261 rows x 5 columns]\n"
     ]
    }
   ],
   "source": [
    "ART_BG_23_1df = pd.DataFrame(ART_BG_23_1df)\n",
    "\n",
    "ART_BG_23_12df = pd.DataFrame(ART_BG_23_12df)\n",
    "\n",
    "print(ART_BG_23_1df)\n",
    "print(ART_BG_23_12df)"
   ]
  },
  {
   "cell_type": "code",
   "execution_count": 26,
   "metadata": {},
   "outputs": [
    {
     "name": "stdout",
     "output_type": "stream",
     "text": [
      "학정 청아람 1월 데이터\n",
      "       아파트     가격     면적   층       위치\n",
      "72  학정청아람  28200  84.66   7  학정동 925\n",
      "73  학정청아람  28000  84.66  22  학정동 925\n",
      "87  학정청아람  24500  59.99   9  학정동 925\n",
      "학정 청아람 12월 데이터\n",
      "        아파트     가격     면적   층       위치\n",
      "102  학정청아람  29200  84.62  25  학정동 925\n",
      "113  학정청아람  27150  84.66  25  학정동 925\n",
      "115  학정청아람  27000  77.10  14  학정동 925\n",
      "116  학정청아람  27000  77.10  14  학정동 925\n",
      "120  학정청아람  26600  84.66  14  학정동 925\n",
      "130  학정청아람  24100  84.66   1  학정동 925\n",
      "139  학정청아람  23450  59.62  13  학정동 925\n",
      "148  학정청아람  21500  59.62  14  학정동 925\n"
     ]
    }
   ],
   "source": [
    "# 아파트 이름으로 데이터 추출\n",
    "Hakjeong_df1 = ART_BG_23_1df[ART_BG_23_1df['아파트'] == '학정청아람']\n",
    "\n",
    "print(f'학정 청아람 1월 데이터\\n {Hakjeong_df1}')\n",
    "\n",
    "Hakjeong_df12 = ART_BG_23_12df[ART_BG_23_12df['아파트'] == '학정청아람']\n",
    "\n",
    "print(f'학정 청아람 12월 데이터\\n {Hakjeong_df12}')"
   ]
  },
  {
   "cell_type": "code",
   "execution_count": 27,
   "metadata": {},
   "outputs": [],
   "source": [
    "Hakjeong_df1 = Hakjeong_df1[Hakjeong_df1['면적'].dropna() > 80]\n",
    "Hakjeong_PRICE1 = Hakjeong_df1['가격'].mean()\n",
    "\n",
    "Hakjeong_df12 = Hakjeong_df12[Hakjeong_df12['면적'].dropna() > 80]\n",
    "Hakjeong_PRICE12 = Hakjeong_df12['가격'].mean()"
   ]
  },
  {
   "cell_type": "markdown",
   "metadata": {},
   "source": [
    "학정청아람 가격 평균"
   ]
  },
  {
   "cell_type": "code",
   "execution_count": 28,
   "metadata": {},
   "outputs": [
    {
     "data": {
      "text/plain": [
       "np.float64(-4.759786476868333)"
      ]
     },
     "execution_count": 28,
     "metadata": {},
     "output_type": "execute_result"
    }
   ],
   "source": [
    "Hakdong_Avg = (Hakjeong_PRICE12/Hakjeong_PRICE1 -1)*100\n",
    "\n",
    "Hakdong_Avg"
   ]
  },
  {
   "cell_type": "code",
   "execution_count": 29,
   "metadata": {},
   "outputs": [
    {
     "name": "stdout",
     "output_type": "stream",
     "text": [
      "중구 삼덕 청아람 아파트 23년 1월~12월 상승률 : 12.334801762114544\n",
      "북구 학정 청아람 아파트 23년 1월~12월 상승률 : -4.759786476868333\n"
     ]
    }
   ],
   "source": [
    "print(f\"중구 삼덕 청아람 아파트 23년 1월~12월 상승률 : {samdeok_Avg}\")\n",
    "print(f\"북구 학정 청아람 아파트 23년 1월~12월 상승률 : {Hakdong_Avg}\")"
   ]
  },
  {
   "cell_type": "markdown",
   "metadata": {},
   "source": []
  },
  {
   "cell_type": "code",
   "execution_count": null,
   "metadata": {},
   "outputs": [],
   "source": []
  },
  {
   "cell_type": "code",
   "execution_count": null,
   "metadata": {},
   "outputs": [],
   "source": []
  }
 ],
 "metadata": {
  "kernelspec": {
   "display_name": "PY39",
   "language": "python",
   "name": "python3"
  },
  "language_info": {
   "codemirror_mode": {
    "name": "ipython",
    "version": 3
   },
   "file_extension": ".py",
   "mimetype": "text/x-python",
   "name": "python",
   "nbconvert_exporter": "python",
   "pygments_lexer": "ipython3",
   "version": "3.9.18"
  }
 },
 "nbformat": 4,
 "nbformat_minor": 2
}
